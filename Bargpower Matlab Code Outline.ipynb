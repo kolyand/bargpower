{
 "cells": [
  {
   "cell_type": "markdown",
   "metadata": {},
   "source": [
    "# 1. Estimation\n",
    "The main procedure that calls every other function is *main.m*. The major comments in the file outline its structure. Two steps that are worth mentioning specifically are the set up (running *set_options.m*) and loading the data (running data_import.m) Both of these steps load some data from the external files.\n",
    "1. *set_options.m* loads:\n",
    "   * Indices and names of the channels to use in the estimation from *ratings_data.mat*\n",
    "   \n",
    "\n",
    "2. *data_import.m* loads:\n",
    "   * Channel viewership from *ratings_data.mat*\n",
    "   * All bundle data from *final_bundle_data.txt*\n",
    "   * Costs data from *costs.csv*\n",
    "   \n",
    "The heart of the estimation is function \"compute_moments\" which is implemented in *compute_moments.m*. It receives the parameters and all the data used in the estimation. After each successful iteration the value of the objective is appended to *obj_val.mat* and the parameters are saved in *param.mat*."
   ]
  },
  {
   "cell_type": "markdown",
   "metadata": {},
   "source": [
    "## 1.1. *compute_moments.m*\n",
    "This function consists of 12 main steps:\n",
    "1. *generate_hh_coef.m* generates random coefficients for each simulated household in each market.\n",
    "2. *compTime.c* computes the viewership times (of each channel) by each simulated household and the values derived from those times.\n",
    "3. *compute_pre_utility.m* computes the exponents of the household utilities excluding the effect of the unobserved heterogeneities (pre_u) and the same excluding also the effect of the viewership (pre_u_net). In the latter case only the observed covariates and the prices are included.\n",
    "4. *compAltVal.c* computes the values derived by households when different channels are dropped from the bundles.\n",
    "5. *invDelta.c* infers the bundle heterogeneities by inverting the market shares.\n",
    "6. *compAltShare.c* compute the market shares that would be observed if different channels were dropped from the bundles.\n",
    "7. *viewMom.c* computes the moments based on the viewership data (henceforth this means—the difference between the moments observed in the data and the moments simulated using the model at the current parameter values).\n",
    "8. *compute_marginal_costs.m* infers the marginal costs from the first order conditions and computes the markups.\n",
    "9. *compute_tau.m* solves the Nash bargaining problems and returns the estimated input fees (as well as the corresponding moments).\n",
    "10. Computes the instrumental variable moment using *compute_xi.m* (changes in sattelite tax are used as an instrument).\n",
    "11. Computes the moment based on the correlation between the mean viewership values (within each market) and the unobserved heteroheneities.\n",
    "12. Combines all the moments together using matrix *mom_weights*."
   ]
  },
  {
   "cell_type": "markdown",
   "metadata": {},
   "source": [
    "# 2. Counterfactuals"
   ]
  },
  {
   "cell_type": "code",
   "execution_count": null,
   "metadata": {
    "collapsed": true
   },
   "outputs": [],
   "source": []
  }
 ],
 "metadata": {
  "kernelspec": {
   "display_name": "Python 3",
   "language": "python",
   "name": "python3"
  },
  "language_info": {
   "codemirror_mode": {
    "name": "ipython",
    "version": 3
   },
   "file_extension": ".py",
   "mimetype": "text/x-python",
   "name": "python",
   "nbconvert_exporter": "python",
   "pygments_lexer": "ipython3",
   "version": "3.6.2"
  }
 },
 "nbformat": 4,
 "nbformat_minor": 2
}
